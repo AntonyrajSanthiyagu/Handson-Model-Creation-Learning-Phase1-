{
 "cells": [
  {
   "cell_type": "code",
   "execution_count": 1,
   "id": "48df2735-06de-45fb-b669-8b9718945344",
   "metadata": {},
   "outputs": [],
   "source": [
    "#for no (15) the array is 167181.3106341, similarly for deployment create a file using python and name it as Deployment phase-1#importing from pickle\n",
    "import pickle"
   ]
  },
  {
   "cell_type": "code",
   "execution_count": 11,
   "id": "a97c4540-7a3d-49db-812f-cdb436cba194",
   "metadata": {},
   "outputs": [
    {
     "name": "stderr",
     "output_type": "stream",
     "text": [
      "C:\\Anaconda 3\\Lib\\site-packages\\sklearn\\base.py:493: UserWarning: X does not have valid feature names, but LinearRegression was fitted with feature names\n",
      "  warnings.warn(\n"
     ]
    }
   ],
   "source": [
    "loaded_model=pickle.load(open(\"finalized_model_linear.sav\",'rb')) #here loading a saved model using load and open (\"filename with ext\", read binary)\n",
    "result=loaded_model.predict([[0]])#after loaded, assigning loaded model.predict to result for checking with input\n",
    "result#displaying result"
   ]
  },
  {
   "cell_type": "code",
   "execution_count": 13,
   "id": "8a910d57-1c1c-4874-8f44-2f409804907d",
   "metadata": {},
   "outputs": [
    {
     "data": {
      "text/plain": [
       "array([[26777.3913412]])"
      ]
     },
     "execution_count": 13,
     "metadata": {},
     "output_type": "execute_result"
    }
   ],
   "source": [
    "result #we found the output for the model for number 15 similary we can check for the no:0 (i.e is o years of exp or fresher salary) since it is not in our table starting wth 1.1 years of exp"
   ]
  },
  {
   "cell_type": "code",
   "execution_count": null,
   "id": "9d7b4477-ba25-4bf7-a41d-8987b256aadd",
   "metadata": {},
   "outputs": [],
   "source": []
  }
 ],
 "metadata": {
  "kernelspec": {
   "display_name": "Python 3 (ipykernel)",
   "language": "python",
   "name": "python3"
  },
  "language_info": {
   "codemirror_mode": {
    "name": "ipython",
    "version": 3
   },
   "file_extension": ".py",
   "mimetype": "text/x-python",
   "name": "python",
   "nbconvert_exporter": "python",
   "pygments_lexer": "ipython3",
   "version": "3.12.4"
  }
 },
 "nbformat": 4,
 "nbformat_minor": 5
}
